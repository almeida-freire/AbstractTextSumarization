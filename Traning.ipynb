{
 "cells": [
  {
   "cell_type": "code",
   "execution_count": 4,
   "metadata": {},
   "outputs": [],
   "source": [
    "from ipynb.fs.full.Model import NNModel\n",
    "from ipynb.fs.full.Data import Helper"
   ]
  },
  {
   "cell_type": "code",
   "execution_count": null,
   "metadata": {},
   "outputs": [],
   "source": [
    "epoch_count = 100\n",
    "batch_size = 20"
   ]
  },
  {
   "cell_type": "code",
   "execution_count": null,
   "metadata": {},
   "outputs": [],
   "source": [
    "helper = Helper(\n",
    "    #PKL ARGS\n",
    "    pkl_text_path=\"./pkl_dataset/dataset_text.pkl\", pkl_summary_path=\"./pkl_dataset/dataset_summary.pkl\", \n",
    "    pkl_word2idx_path=\"./pkl_dataset/word2idx.pkl\", pkl_idx2word_path=\"./pkl_dataset/idx2word.pkl\",\n",
    "    #BUILD PKL ARGS\n",
    "    text_path=\"../Dataset/train/train.article.txt\", summary_path=\"../Dataset/train/train.title.txt\", max_chr_count=300, dataset_size=-1,\n",
    "    #SAVE\n",
    "    save_path=\"./pkl_dataset\",\n",
    "    #FLAGS\n",
    "    build_from_dataset=False\n",
    ")"
   ]
  },
  {
   "cell_type": "code",
   "execution_count": null,
   "metadata": {},
   "outputs": [],
   "source": [
    "for epoch in range(epoch_count):\n",
    "    for (sample_text, sample_summary), (sample_text_sizes, sample_summary_sizes) in helper.next_batch(batch_size):\n",
    "        "
   ]
  }
 ],
 "metadata": {
  "kernelspec": {
   "display_name": "Python 3",
   "language": "python",
   "name": "python3"
  },
  "language_info": {
   "codemirror_mode": {
    "name": "ipython",
    "version": 3
   },
   "file_extension": ".py",
   "mimetype": "text/x-python",
   "name": "python",
   "nbconvert_exporter": "python",
   "pygments_lexer": "ipython3",
   "version": "3.6.4"
  }
 },
 "nbformat": 4,
 "nbformat_minor": 2
}
